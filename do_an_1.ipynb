{
  "nbformat": 4,
  "nbformat_minor": 0,
  "metadata": {
    "colab": {
      "name": "YOLOv5 Tutorial",
      "provenance": []
    },
    "kernelspec": {
      "name": "python3",
      "display_name": "Python 3"
    },
    "accelerator": "GPU"
  },
  "cells": [
    {
      "cell_type": "markdown",
      "metadata": {
        "id": "t6MPjfT5NrKQ"
      },
      "source": [
        "<div align=\"center\">\n",
        "\n",
        "  <a href=\"https://ultralytics.com/yolov5\" target=\"_blank\">\n",
        "    <img width=\"1024\", src=\"https://raw.githubusercontent.com/ultralytics/assets/main/yolov5/v70/splash.png\"></a>\n",
        "\n",
        "\n",
        "<br>\n",
        "  <a href=\"https://bit.ly/yolov5-paperspace-notebook\"><img src=\"https://assets.paperspace.io/img/gradient-badge.svg\" alt=\"Run on Gradient\"></a>\n",
        "  <a href=\"https://colab.research.google.com/github/ultralytics/yolov5/blob/master/tutorial.ipynb\"><img src=\"https://colab.research.google.com/assets/colab-badge.svg\" alt=\"Open In Colab\"></a>\n",
        "  <a href=\"https://www.kaggle.com/ultralytics/yolov5\"><img src=\"https://kaggle.com/static/images/open-in-kaggle.svg\" alt=\"Open In Kaggle\"></a>\n",
        "<br>\n",
        "\n",
        "This <a href=\"https://github.com/ultralytics/yolov5\">YOLOv5</a> 🚀 notebook by <a href=\"https://ultralytics.com\">Ultralytics</a> presents simple train, validate and predict examples to help start your AI adventure.<br>We hope that the resources in this notebook will help you get the most out of YOLOv5. Please browse the YOLOv5 <a href=\"https://docs.ultralytics.com/yolov5\">Docs</a> for details, raise an issue on <a href=\"https://github.com/ultralytics/yolov5\">GitHub</a> for support, and join our <a href=\"https://discord.gg/n6cFeSPZdD\">Discord</a> community for questions and discussions!\n",
        "\n",
        "</div>"
      ]
    },
    {
      "cell_type": "markdown",
      "metadata": {
        "id": "7mGmQbAO5pQb"
      },
      "source": [
        "# Setup\n",
        "\n",
        "Clone GitHub [repository](https://github.com/ultralytics/yolov5), install [dependencies](https://github.com/ultralytics/yolov5/blob/master/requirements.txt) and check PyTorch and GPU."
      ]
    },
    {
      "cell_type": "code",
      "metadata": {
        "id": "wbvMlHd_QwMG",
        "colab": {
          "base_uri": "https://localhost:8080/"
        },
        "outputId": "804952b0-3c1f-4eda-c037-95790b3b2ebf"
      },
      "source": [
        "!git clone https://github.com/ultralytics/yolov5  # clone\n",
        "%cd yolov5\n",
        "%pip install -qr requirements.txt  # install\n",
        "\n",
        "import torch\n",
        "import utils\n",
        "display = utils.notebook_init()  # checks"
      ],
      "execution_count": 1,
      "outputs": [
        {
          "output_type": "stream",
          "name": "stderr",
          "text": [
            "YOLOv5 🚀 v7.0-176-g76ea9ed Python-3.10.11 torch-2.0.1+cu118 CUDA:0 (Tesla T4, 15102MiB)\n"
          ]
        },
        {
          "output_type": "stream",
          "name": "stdout",
          "text": [
            "Setup complete ✅ (2 CPUs, 12.7 GB RAM, 23.3/78.2 GB disk)\n"
          ]
        }
      ]
    },
    {
      "cell_type": "code",
      "source": [
        "!unrar x /content/train_data.rar"
      ],
      "metadata": {
        "colab": {
          "base_uri": "https://localhost:8080/"
        },
        "id": "c460R8yizVLX",
        "outputId": "52c1815d-3cce-4344-a9b0-0448f22ba365"
      },
      "execution_count": 2,
      "outputs": [
        {
          "output_type": "stream",
          "name": "stdout",
          "text": [
            "\n",
            "UNRAR 5.61 beta 1 freeware      Copyright (c) 1993-2018 Alexander Roshal\n",
            "\n",
            "\n",
            "Extracting from /content/train_data.rar\n",
            "\n",
            "Creating    train_data                                                OK\n",
            "Creating    train_data/images                                         OK\n",
            "Creating    train_data/images/train                                   OK\n",
            "Extracting  train_data/images/train/1.jpg                                \b\b\b\b  0%\b\b\b\b\b  OK \n",
            "Extracting  train_data/images/train/10.jpg                               \b\b\b\b  0%\b\b\b\b\b  OK \n",
            "Extracting  train_data/images/train/100.jpg                              \b\b\b\b  1%\b\b\b\b\b  OK \n",
            "Extracting  train_data/images/train/11.jpg                               \b\b\b\b  1%\b\b\b\b\b  OK \n",
            "Extracting  train_data/images/train/12.jpg                               \b\b\b\b  2%\b\b\b\b\b  OK \n",
            "Extracting  train_data/images/train/13.jpg                               \b\b\b\b  5%\b\b\b\b\b  OK \n",
            "Extracting  train_data/images/train/14.jpg                               \b\b\b\b  5%\b\b\b\b\b  OK \n",
            "Extracting  train_data/images/train/15.jpg                               \b\b\b\b  5%\b\b\b\b\b  OK \n",
            "Extracting  train_data/images/train/16.jpg                               \b\b\b\b  8%\b\b\b\b\b  OK \n",
            "Extracting  train_data/images/train/17.jpg                               \b\b\b\b  8%\b\b\b\b\b  OK \n",
            "Extracting  train_data/images/train/18.jpg                               \b\b\b\b  9%\b\b\b\b\b  OK \n",
            "Extracting  train_data/images/train/19.jpg                               \b\b\b\b 10%\b\b\b\b\b  OK \n",
            "Extracting  train_data/images/train/2.jpg                                \b\b\b\b 11%\b\b\b\b\b  OK \n",
            "Extracting  train_data/images/train/20.jpg                               \b\b\b\b 12%\b\b\b\b\b  OK \n",
            "Extracting  train_data/images/train/21.jpg                               \b\b\b\b 13%\b\b\b\b\b  OK \n",
            "Extracting  train_data/images/train/22.jpg                               \b\b\b\b 14%\b\b\b\b\b  OK \n",
            "Extracting  train_data/images/train/23.jpg                               \b\b\b\b 14%\b\b\b\b\b  OK \n",
            "Extracting  train_data/images/train/24.jpg                               \b\b\b\b 15%\b\b\b\b\b  OK \n",
            "Extracting  train_data/images/train/25.jpg                               \b\b\b\b 16%\b\b\b\b\b  OK \n",
            "Extracting  train_data/images/train/26.jpg                               \b\b\b\b 16%\b\b\b\b\b  OK \n",
            "Extracting  train_data/images/train/27.jpg                               \b\b\b\b 17%\b\b\b\b\b  OK \n",
            "Extracting  train_data/images/train/28.jpg                               \b\b\b\b 18%\b\b\b\b\b  OK \n",
            "Extracting  train_data/images/train/3.jpg                                \b\b\b\b 20%\b\b\b\b\b  OK \n",
            "Extracting  train_data/images/train/4.jpg                                \b\b\b\b 20%\b\b\b\b\b  OK \n",
            "Extracting  train_data/images/train/5.jpg                                \b\b\b\b 21%\b\b\b\b\b  OK \n",
            "Extracting  train_data/images/train/51.jpg                               \b\b\b\b 23%\b\b\b\b\b  OK \n",
            "Extracting  train_data/images/train/52.jpg                               \b\b\b\b 25%\b\b\b\b\b  OK \n",
            "Extracting  train_data/images/train/53.jpg                               \b\b\b\b 27%\b\b\b\b\b  OK \n",
            "Extracting  train_data/images/train/54.jpg                               \b\b\b\b 29%\b\b\b\b\b  OK \n",
            "Extracting  train_data/images/train/55.jpg                               \b\b\b\b 33%\b\b\b\b\b  OK \n",
            "Extracting  train_data/images/train/56.jpg                               \b\b\b\b 34%\b\b\b\b\b  OK \n",
            "Extracting  train_data/images/train/57.jpg                               \b\b\b\b 45%\b\b\b\b\b  OK \n",
            "Extracting  train_data/images/train/58.jpg                               \b\b\b\b 46%\b\b\b\b\b  OK \n",
            "Extracting  train_data/images/train/59.jpg                               \b\b\b\b 46%\b\b\b\b\b  OK \n",
            "Extracting  train_data/images/train/6.jpg                                \b\b\b\b 49%\b\b\b\b\b  OK \n",
            "Extracting  train_data/images/train/60.jpg                               \b\b\b\b 51%\b\b\b\b\b  OK \n",
            "Extracting  train_data/images/train/61.jpg                               \b\b\b\b 53%\b\b\b\b\b  OK \n",
            "Extracting  train_data/images/train/62.jpg                               \b\b\b\b 54%\b\b\b\b\b  OK \n",
            "Extracting  train_data/images/train/63.jpg                               \b\b\b\b 55%\b\b\b\b\b  OK \n",
            "Extracting  train_data/images/train/64.jpg                               \b\b\b\b 58%\b\b\b\b\b  OK \n",
            "Extracting  train_data/images/train/65.jpg                               \b\b\b\b 59%\b\b\b\b\b  OK \n",
            "Extracting  train_data/images/train/66.jpg                               \b\b\b\b 60%\b\b\b\b\b  OK \n",
            "Extracting  train_data/images/train/67.jpg                               \b\b\b\b 61%\b\b\b\b\b  OK \n",
            "Extracting  train_data/images/train/68.jpg                               \b\b\b\b 62%\b\b\b\b\b  OK \n",
            "Extracting  train_data/images/train/69.jpg                               \b\b\b\b 63%\b\b\b\b\b  OK \n",
            "Extracting  train_data/images/train/7.jpg                                \b\b\b\b 64%\b\b\b\b\b  OK \n",
            "Extracting  train_data/images/train/70.jpg                               \b\b\b\b 65%\b\b\b\b\b  OK \n",
            "Extracting  train_data/images/train/71.jpg                               \b\b\b\b 66%\b\b\b\b\b  OK \n",
            "Extracting  train_data/images/train/72.jpg                               \b\b\b\b 70%\b\b\b\b\b  OK \n",
            "Extracting  train_data/images/train/73.jpg                               \b\b\b\b 70%\b\b\b\b\b  OK \n",
            "Extracting  train_data/images/train/74.jfif                              \b\b\b\b 71%\b\b\b\b\b  OK \n",
            "Extracting  train_data/images/train/75.jfif                              \b\b\b\b 71%\b\b\b\b\b  OK \n",
            "Extracting  train_data/images/train/76.jfif                              \b\b\b\b 71%\b\b\b\b\b  OK \n",
            "Extracting  train_data/images/train/77.jfif                              \b\b\b\b 71%\b\b\b\b\b  OK \n",
            "Extracting  train_data/images/train/79.jfif                              \b\b\b\b 71%\b\b\b\b\b  OK \n",
            "Extracting  train_data/images/train/8.jpg                                \b\b\b\b 72%\b\b\b\b\b  OK \n",
            "Extracting  train_data/images/train/80.jfif                              \b\b\b\b 72%\b\b\b\b\b  OK \n",
            "Extracting  train_data/images/train/81.jpg                               \b\b\b\b 72%\b\b\b\b\b  OK \n",
            "Extracting  train_data/images/train/82.jpg                               \b\b\b\b 81%\b\b\b\b\b  OK \n",
            "Extracting  train_data/images/train/83.jpg                               \b\b\b\b 83%\b\b\b\b\b  OK \n",
            "Extracting  train_data/images/train/84.jpg                               \b\b\b\b 86%\b\b\b\b\b  OK \n",
            "Extracting  train_data/images/train/85.jfif                              \b\b\b\b 86%\b\b\b\b\b  OK \n",
            "Extracting  train_data/images/train/86.jfif                              \b\b\b\b 86%\b\b\b\b\b  OK \n",
            "Extracting  train_data/images/train/87.jpg                               \b\b\b\b 89%\b\b\b\b\b  OK \n",
            "Extracting  train_data/images/train/88.jfif                              \b\b\b\b 89%\b\b\b\b\b  OK \n",
            "Extracting  train_data/images/train/89.jpeg                              \b\b\b\b 90%\b\b\b\b\b  OK \n",
            "Extracting  train_data/images/train/9.jpg                                \b\b\b\b 91%\b\b\b\b\b  OK \n",
            "Extracting  train_data/images/train/90.jpeg                              \b\b\b\b 92%\b\b\b\b\b  OK \n",
            "Extracting  train_data/images/train/91.jpg                               \b\b\b\b 94%\b\b\b\b\b  OK \n",
            "Extracting  train_data/images/train/92.jpg                               \b\b\b\b 96%\b\b\b\b\b  OK \n",
            "Extracting  train_data/images/train/93.jpg                               \b\b\b\b 97%\b\b\b\b\b  OK \n",
            "Extracting  train_data/images/train/94.jfif                              \b\b\b\b 97%\b\b\b\b\b  OK \n",
            "Extracting  train_data/images/train/95.jfif                              \b\b\b\b 97%\b\b\b\b\b  OK \n",
            "Extracting  train_data/images/train/96.jpg                               \b\b\b\b 98%\b\b\b\b\b  OK \n",
            "Extracting  train_data/images/train/97.jpg                               \b\b\b\b 98%\b\b\b\b\b  OK \n",
            "Extracting  train_data/images/train/98.jpg                               \b\b\b\b 99%\b\b\b\b\b  OK \n",
            "Extracting  train_data/images/train/99.jpg                               \b\b\b\b 99%\b\b\b\b\b  OK \n",
            "Creating    train_data/labels                                         OK\n",
            "Creating    train_data/labels/train                                   OK\n",
            "Extracting  train_data/labels/train/1.txt                                \b\b\b\b 99%\b\b\b\b\b  OK \n",
            "Extracting  train_data/labels/train/10.txt                               \b\b\b\b 99%\b\b\b\b\b  OK \n",
            "Extracting  train_data/labels/train/100.txt                              \b\b\b\b 99%\b\b\b\b\b  OK \n",
            "Extracting  train_data/labels/train/11.txt                               \b\b\b\b 99%\b\b\b\b\b  OK \n",
            "Extracting  train_data/labels/train/12.txt                               \b\b\b\b 99%\b\b\b\b\b  OK \n",
            "Extracting  train_data/labels/train/13.txt                               \b\b\b\b 99%\b\b\b\b\b  OK \n",
            "Extracting  train_data/labels/train/14.txt                               \b\b\b\b 99%\b\b\b\b\b  OK \n",
            "Extracting  train_data/labels/train/15.txt                               \b\b\b\b 99%\b\b\b\b\b  OK \n",
            "Extracting  train_data/labels/train/16.txt                               \b\b\b\b 99%\b\b\b\b\b  OK \n",
            "Extracting  train_data/labels/train/17.txt                               \b\b\b\b 99%\b\b\b\b\b  OK \n",
            "Extracting  train_data/labels/train/18.txt                               \b\b\b\b 99%\b\b\b\b\b  OK \n",
            "Extracting  train_data/labels/train/19.txt                               \b\b\b\b 99%\b\b\b\b\b  OK \n",
            "Extracting  train_data/labels/train/2.txt                                \b\b\b\b 99%\b\b\b\b\b  OK \n",
            "Extracting  train_data/labels/train/20.txt                               \b\b\b\b 99%\b\b\b\b\b  OK \n",
            "Extracting  train_data/labels/train/21.txt                               \b\b\b\b 99%\b\b\b\b\b  OK \n",
            "Extracting  train_data/labels/train/22.txt                               \b\b\b\b 99%\b\b\b\b\b  OK \n",
            "Extracting  train_data/labels/train/23.txt                               \b\b\b\b 99%\b\b\b\b\b  OK \n",
            "Extracting  train_data/labels/train/24.txt                               \b\b\b\b 99%\b\b\b\b\b  OK \n",
            "Extracting  train_data/labels/train/25.txt                               \b\b\b\b 99%\b\b\b\b\b  OK \n",
            "Extracting  train_data/labels/train/26.txt                               \b\b\b\b 99%\b\b\b\b\b  OK \n",
            "Extracting  train_data/labels/train/27.txt                               \b\b\b\b 99%\b\b\b\b\b  OK \n",
            "Extracting  train_data/labels/train/28.txt                               \b\b\b\b 99%\b\b\b\b\b  OK \n",
            "Extracting  train_data/labels/train/3.txt                                \b\b\b\b 99%\b\b\b\b\b  OK \n",
            "Extracting  train_data/labels/train/4.txt                                \b\b\b\b 99%\b\b\b\b\b  OK \n",
            "Extracting  train_data/labels/train/5.txt                                \b\b\b\b 99%\b\b\b\b\b  OK \n",
            "Extracting  train_data/labels/train/51.txt                               \b\b\b\b 99%\b\b\b\b\b  OK \n",
            "Extracting  train_data/labels/train/52.txt                               \b\b\b\b 99%\b\b\b\b\b  OK \n",
            "Extracting  train_data/labels/train/53.txt                               \b\b\b\b 99%\b\b\b\b\b  OK \n",
            "Extracting  train_data/labels/train/54.txt                               \b\b\b\b 99%\b\b\b\b\b  OK \n",
            "Extracting  train_data/labels/train/55.txt                               \b\b\b\b 99%\b\b\b\b\b  OK \n",
            "Extracting  train_data/labels/train/56.txt                               \b\b\b\b 99%\b\b\b\b\b  OK \n",
            "Extracting  train_data/labels/train/57.txt                               \b\b\b\b 99%\b\b\b\b\b  OK \n",
            "Extracting  train_data/labels/train/58.txt                               \b\b\b\b 99%\b\b\b\b\b  OK \n",
            "Extracting  train_data/labels/train/59.txt                               \b\b\b\b 99%\b\b\b\b\b  OK \n",
            "Extracting  train_data/labels/train/6.txt                                \b\b\b\b 99%\b\b\b\b\b  OK \n",
            "Extracting  train_data/labels/train/60.txt                               \b\b\b\b 99%\b\b\b\b\b  OK \n",
            "Extracting  train_data/labels/train/61.txt                               \b\b\b\b 99%\b\b\b\b\b  OK \n",
            "Extracting  train_data/labels/train/62.txt                               \b\b\b\b 99%\b\b\b\b\b  OK \n",
            "Extracting  train_data/labels/train/63.txt                               \b\b\b\b 99%\b\b\b\b\b  OK \n",
            "Extracting  train_data/labels/train/64.txt                               \b\b\b\b 99%\b\b\b\b\b  OK \n",
            "Extracting  train_data/labels/train/65.txt                               \b\b\b\b 99%\b\b\b\b\b  OK \n",
            "Extracting  train_data/labels/train/66.txt                               \b\b\b\b 99%\b\b\b\b\b  OK \n",
            "Extracting  train_data/labels/train/67.txt                               \b\b\b\b 99%\b\b\b\b\b  OK \n",
            "Extracting  train_data/labels/train/68.txt                               \b\b\b\b 99%\b\b\b\b\b  OK \n",
            "Extracting  train_data/labels/train/69.txt                               \b\b\b\b 99%\b\b\b\b\b  OK \n",
            "Extracting  train_data/labels/train/7.txt                                \b\b\b\b 99%\b\b\b\b\b  OK \n",
            "Extracting  train_data/labels/train/70.txt                               \b\b\b\b 99%\b\b\b\b\b  OK \n",
            "Extracting  train_data/labels/train/71.txt                               \b\b\b\b 99%\b\b\b\b\b  OK \n",
            "Extracting  train_data/labels/train/72.txt                               \b\b\b\b 99%\b\b\b\b\b  OK \n",
            "Extracting  train_data/labels/train/73.txt                               \b\b\b\b 99%\b\b\b\b\b  OK \n",
            "Extracting  train_data/labels/train/74.txt                               \b\b\b\b 99%\b\b\b\b\b  OK \n",
            "Extracting  train_data/labels/train/75.txt                               \b\b\b\b 99%\b\b\b\b\b  OK \n",
            "Extracting  train_data/labels/train/76.txt                               \b\b\b\b 99%\b\b\b\b\b  OK \n",
            "Extracting  train_data/labels/train/77.txt                               \b\b\b\b 99%\b\b\b\b\b  OK \n",
            "Extracting  train_data/labels/train/79.txt                               \b\b\b\b 99%\b\b\b\b\b  OK \n",
            "Extracting  train_data/labels/train/8.txt                                \b\b\b\b 99%\b\b\b\b\b  OK \n",
            "Extracting  train_data/labels/train/80.txt                               \b\b\b\b 99%\b\b\b\b\b  OK \n",
            "Extracting  train_data/labels/train/81.txt                               \b\b\b\b 99%\b\b\b\b\b  OK \n",
            "Extracting  train_data/labels/train/82.txt                               \b\b\b\b 99%\b\b\b\b\b  OK \n",
            "Extracting  train_data/labels/train/83.txt                               \b\b\b\b 99%\b\b\b\b\b  OK \n",
            "Extracting  train_data/labels/train/84.txt                               \b\b\b\b 99%\b\b\b\b\b  OK \n",
            "Extracting  train_data/labels/train/85.txt                               \b\b\b\b 99%\b\b\b\b\b  OK \n",
            "Extracting  train_data/labels/train/86.txt                               \b\b\b\b 99%\b\b\b\b\b  OK \n",
            "Extracting  train_data/labels/train/87.txt                               \b\b\b\b 99%\b\b\b\b\b  OK \n",
            "Extracting  train_data/labels/train/88.txt                               \b\b\b\b 99%\b\b\b\b\b  OK \n",
            "Extracting  train_data/labels/train/89.txt                               \b\b\b\b 99%\b\b\b\b\b  OK \n",
            "Extracting  train_data/labels/train/9.txt                                \b\b\b\b 99%\b\b\b\b\b  OK \n",
            "Extracting  train_data/labels/train/90.txt                               \b\b\b\b 99%\b\b\b\b\b  OK \n",
            "Extracting  train_data/labels/train/91.txt                               \b\b\b\b 99%\b\b\b\b\b  OK \n",
            "Extracting  train_data/labels/train/92.txt                               \b\b\b\b 99%\b\b\b\b\b  OK \n",
            "Extracting  train_data/labels/train/93.txt                               \b\b\b\b 99%\b\b\b\b\b  OK \n",
            "Extracting  train_data/labels/train/94.txt                               \b\b\b\b 99%\b\b\b\b\b  OK \n",
            "Extracting  train_data/labels/train/95.txt                               \b\b\b\b 99%\b\b\b\b\b  OK \n",
            "Extracting  train_data/labels/train/96.txt                               \b\b\b\b 99%\b\b\b\b\b  OK \n",
            "Extracting  train_data/labels/train/97.txt                               \b\b\b\b 99%\b\b\b\b\b  OK \n",
            "Extracting  train_data/labels/train/98.txt                               \b\b\b\b 99%\b\b\b\b\b  OK \n",
            "Extracting  train_data/labels/train/99.txt                               \b\b\b\b 99%\b\b\b\b\b  OK \n",
            "All OK\n"
          ]
        }
      ]
    },
    {
      "cell_type": "markdown",
      "metadata": {
        "id": "4JnkELT0cIJg"
      },
      "source": [
        "# 1. Detect\n",
        "\n",
        "`detect.py` runs YOLOv5 inference on a variety of sources, downloading models automatically from the [latest YOLOv5 release](https://github.com/ultralytics/yolov5/releases), and saving results to `runs/detect`. Example inference sources are:\n",
        "\n",
        "```shell\n",
        "python detect.py --source 0  # webcam\n",
        "                          img.jpg  # image \n",
        "                          vid.mp4  # video\n",
        "                          screen  # screenshot\n",
        "                          path/  # directory\n",
        "                         'path/*.jpg'  # glob\n",
        "                         'https://youtu.be/Zgi9g1ksQHc'  # YouTube\n",
        "                         'rtsp://example.com/media.mp4'  # RTSP, RTMP, HTTP stream\n",
        "```"
      ]
    },
    {
      "cell_type": "code",
      "metadata": {
        "id": "zR9ZbuQCH7FX",
        "colab": {
          "base_uri": "https://localhost:8080/"
        },
        "outputId": "faf2b334-3e58-4b13-941f-232ed44af1e7"
      },
      "source": [
        "!python detect.py --weights runs/train/exp/weights/best.pt --img 640 --conf 0.25 --source /content/OIF.jpg\n",
        "# display.Image(filename='runs/detect/exp/zidane.jpg', width=600)"
      ],
      "execution_count": 5,
      "outputs": [
        {
          "output_type": "stream",
          "name": "stdout",
          "text": [
            "\u001b[34m\u001b[1mdetect: \u001b[0mweights=['runs/train/exp/weights/best.pt'], source=/content/OIF.jpg, data=data/coco128.yaml, imgsz=[640, 640], conf_thres=0.25, iou_thres=0.45, max_det=1000, device=, view_img=False, save_txt=False, save_conf=False, save_crop=False, nosave=False, classes=None, agnostic_nms=False, augment=False, visualize=False, update=False, project=runs/detect, name=exp, exist_ok=False, line_thickness=3, hide_labels=False, hide_conf=False, half=False, dnn=False, vid_stride=1\n",
            "YOLOv5 🚀 v7.0-176-g76ea9ed Python-3.10.11 torch-2.0.1+cu118 CUDA:0 (Tesla T4, 15102MiB)\n",
            "\n",
            "Fusing layers... \n",
            "Model summary: 157 layers, 7012822 parameters, 0 gradients, 15.8 GFLOPs\n",
            "image 1/1 /content/OIF.jpg: 384x640 6 cows, 43.6ms\n",
            "Speed: 0.5ms pre-process, 43.6ms inference, 85.1ms NMS per image at shape (1, 3, 640, 640)\n",
            "Results saved to \u001b[1mruns/detect/exp2\u001b[0m\n"
          ]
        }
      ]
    },
    {
      "cell_type": "markdown",
      "metadata": {
        "id": "hkAzDWJ7cWTr"
      },
      "source": [
        "&nbsp;&nbsp;&nbsp;&nbsp;&nbsp;&nbsp;&nbsp;&nbsp;\n",
        "<img align=\"left\" src=\"https://user-images.githubusercontent.com/26833433/127574988-6a558aa1-d268-44b9-bf6b-62d4c605cc72.jpg\" width=\"600\">"
      ]
    },
    {
      "cell_type": "markdown",
      "metadata": {
        "id": "0eq1SMWl6Sfn"
      },
      "source": [
        "# 2. Validate\n",
        "Validate a model's accuracy on the [COCO](https://cocodataset.org/#home) dataset's `val` or `test` splits. Models are downloaded automatically from the [latest YOLOv5 release](https://github.com/ultralytics/yolov5/releases). To show results by class use the `--verbose` flag."
      ]
    },
    {
      "cell_type": "code",
      "metadata": {
        "id": "WQPtK1QYVaD_",
        "colab": {
          "base_uri": "https://localhost:8080/"
        },
        "outputId": "cf7d52f0-281c-4c96-a488-79f5908f8426"
      },
      "source": [
        "# Download COCO val\n",
        "torch.hub.download_url_to_file('https://ultralytics.com/assets/coco2017val.zip', 'tmp.zip')  # download (780M - 5000 images)\n",
        "!unzip -q tmp.zip -d ../datasets && rm tmp.zip  # unzip"
      ],
      "execution_count": null,
      "outputs": [
        {
          "output_type": "stream",
          "name": "stderr",
          "text": [
            "100%|██████████| 780M/780M [00:12<00:00, 66.6MB/s]\n"
          ]
        }
      ]
    },
    {
      "cell_type": "code",
      "metadata": {
        "id": "X58w8JLpMnjH",
        "colab": {
          "base_uri": "https://localhost:8080/"
        },
        "outputId": "3e234e05-ee8b-4ad1-b1a4-f6a55d5e4f3d"
      },
      "source": [
        "# Validate YOLOv5s on COCO val\n",
        "!python val.py --weights yolov5s.pt --data coco.yaml --img 640 --half"
      ],
      "execution_count": null,
      "outputs": [
        {
          "output_type": "stream",
          "name": "stdout",
          "text": [
            "\u001b[34m\u001b[1mval: \u001b[0mdata=/content/yolov5/data/coco.yaml, weights=['yolov5s.pt'], batch_size=32, imgsz=640, conf_thres=0.001, iou_thres=0.6, max_det=300, task=val, device=, workers=8, single_cls=False, augment=False, verbose=False, save_txt=False, save_hybrid=False, save_conf=False, save_json=True, project=runs/val, name=exp, exist_ok=False, half=True, dnn=False\n",
            "YOLOv5 🚀 v7.0-136-g71244ae Python-3.9.16 torch-2.0.0+cu118 CUDA:0 (Tesla T4, 15102MiB)\n",
            "\n",
            "Fusing layers... \n",
            "YOLOv5s summary: 213 layers, 7225885 parameters, 0 gradients\n",
            "\u001b[34m\u001b[1mval: \u001b[0mScanning /content/datasets/coco/val2017... 4952 images, 48 backgrounds, 0 corrupt: 100% 5000/5000 [00:02<00:00, 2024.59it/s]\n",
            "\u001b[34m\u001b[1mval: \u001b[0mNew cache created: /content/datasets/coco/val2017.cache\n",
            "                 Class     Images  Instances          P          R      mAP50   mAP50-95: 100% 157/157 [01:25<00:00,  1.84it/s]\n",
            "                   all       5000      36335      0.671      0.519      0.566      0.371\n",
            "Speed: 0.1ms pre-process, 3.1ms inference, 2.3ms NMS per image at shape (32, 3, 640, 640)\n",
            "\n",
            "Evaluating pycocotools mAP... saving runs/val/exp/yolov5s_predictions.json...\n",
            "loading annotations into memory...\n",
            "Done (t=0.43s)\n",
            "creating index...\n",
            "index created!\n",
            "Loading and preparing results...\n",
            "DONE (t=5.32s)\n",
            "creating index...\n",
            "index created!\n",
            "Running per image evaluation...\n",
            "Evaluate annotation type *bbox*\n",
            "DONE (t=78.89s).\n",
            "Accumulating evaluation results...\n",
            "DONE (t=14.51s).\n",
            " Average Precision  (AP) @[ IoU=0.50:0.95 | area=   all | maxDets=100 ] = 0.374\n",
            " Average Precision  (AP) @[ IoU=0.50      | area=   all | maxDets=100 ] = 0.572\n",
            " Average Precision  (AP) @[ IoU=0.75      | area=   all | maxDets=100 ] = 0.402\n",
            " Average Precision  (AP) @[ IoU=0.50:0.95 | area= small | maxDets=100 ] = 0.211\n",
            " Average Precision  (AP) @[ IoU=0.50:0.95 | area=medium | maxDets=100 ] = 0.423\n",
            " Average Precision  (AP) @[ IoU=0.50:0.95 | area= large | maxDets=100 ] = 0.489\n",
            " Average Recall     (AR) @[ IoU=0.50:0.95 | area=   all | maxDets=  1 ] = 0.311\n",
            " Average Recall     (AR) @[ IoU=0.50:0.95 | area=   all | maxDets= 10 ] = 0.516\n",
            " Average Recall     (AR) @[ IoU=0.50:0.95 | area=   all | maxDets=100 ] = 0.566\n",
            " Average Recall     (AR) @[ IoU=0.50:0.95 | area= small | maxDets=100 ] = 0.378\n",
            " Average Recall     (AR) @[ IoU=0.50:0.95 | area=medium | maxDets=100 ] = 0.625\n",
            " Average Recall     (AR) @[ IoU=0.50:0.95 | area= large | maxDets=100 ] = 0.722\n",
            "Results saved to \u001b[1mruns/val/exp\u001b[0m\n"
          ]
        }
      ]
    },
    {
      "cell_type": "markdown",
      "metadata": {
        "id": "ZY2VXXXu74w5"
      },
      "source": [
        "# 3. Train\n",
        "\n",
        "<p align=\"\"><a href=\"https://bit.ly/ultralytics_hub\"><img width=\"1000\" src=\"https://github.com/ultralytics/assets/raw/main/im/integrations-loop.png\"/></a></p>\n",
        "Close the active learning loop by sampling images from your inference conditions with the `roboflow` pip package\n",
        "<br><br>\n",
        "\n",
        "Train a YOLOv5s model on the [COCO128](https://www.kaggle.com/ultralytics/coco128) dataset with `--data coco128.yaml`, starting from pretrained `--weights yolov5s.pt`, or from randomly initialized `--weights '' --cfg yolov5s.yaml`.\n",
        "\n",
        "- **Pretrained [Models](https://github.com/ultralytics/yolov5/tree/master/models)** are downloaded\n",
        "automatically from the [latest YOLOv5 release](https://github.com/ultralytics/yolov5/releases)\n",
        "- **[Datasets](https://github.com/ultralytics/yolov5/tree/master/data)** available for autodownload include: [COCO](https://github.com/ultralytics/yolov5/blob/master/data/coco.yaml), [COCO128](https://github.com/ultralytics/yolov5/blob/master/data/coco128.yaml), [VOC](https://github.com/ultralytics/yolov5/blob/master/data/VOC.yaml), [Argoverse](https://github.com/ultralytics/yolov5/blob/master/data/Argoverse.yaml), [VisDrone](https://github.com/ultralytics/yolov5/blob/master/data/VisDrone.yaml), [GlobalWheat](https://github.com/ultralytics/yolov5/blob/master/data/GlobalWheat2020.yaml), [xView](https://github.com/ultralytics/yolov5/blob/master/data/xView.yaml), [Objects365](https://github.com/ultralytics/yolov5/blob/master/data/Objects365.yaml), [SKU-110K](https://github.com/ultralytics/yolov5/blob/master/data/SKU-110K.yaml).\n",
        "- **Training Results** are saved to `runs/train/` with incrementing run directories, i.e. `runs/train/exp2`, `runs/train/exp3` etc.\n",
        "<br>\n",
        "\n",
        "A **Mosaic Dataloader** is used for training which combines 4 images into 1 mosaic.\n",
        "\n",
        "## Label a dataset on Roboflow (optional)\n",
        "\n",
        "[Roboflow](https://roboflow.com/?ref=ultralytics) enables you to easily **organize, label, and prepare** a high quality dataset with your own custom data. Roboflow also makes it easy to establish an active learning pipeline, collaborate with your team on dataset improvement, and integrate directly into your model building workflow with the `roboflow` pip package."
      ]
    },
    {
      "cell_type": "code",
      "source": [
        "#@title Select YOLOv5 🚀 logger {run: 'auto'}\n",
        "logger = 'Comet' #@param ['Comet', 'ClearML', 'TensorBoard']\n",
        "\n",
        "if logger == 'Comet':\n",
        "  %pip install -q comet_ml\n",
        "  import comet_ml; comet_ml.init()\n",
        "elif logger == 'ClearML':\n",
        "  %pip install -q clearml\n",
        "  import clearml; clearml.browser_login()\n",
        "elif logger == 'TensorBoard':\n",
        "  %load_ext tensorboard\n",
        "  %tensorboard --logdir runs/train"
      ],
      "metadata": {
        "id": "i3oKtE4g-aNn"
      },
      "execution_count": null,
      "outputs": []
    },
    {
      "cell_type": "code",
      "metadata": {
        "id": "1NcFxRcFdJ_O",
        "colab": {
          "base_uri": "https://localhost:8080/"
        },
        "outputId": "398e5dfa-6f7e-4912-b8f6-6a4775f2111b"
      },
      "source": [
        "# Train YOLOv5s on COCO128 for 3 epochs\n",
        "!python train.py --img 640 --batch 16 --epochs 50 --data coco128.yaml --weights yolov5s.pt --cache"
      ],
      "execution_count": 3,
      "outputs": [
        {
          "output_type": "stream",
          "name": "stdout",
          "text": [
            "\u001b[34m\u001b[1mtrain: \u001b[0mweights=yolov5s.pt, cfg=, data=coco128.yaml, hyp=data/hyps/hyp.scratch-low.yaml, epochs=50, batch_size=16, imgsz=640, rect=False, resume=False, nosave=False, noval=False, noautoanchor=False, noplots=False, evolve=None, bucket=, cache=ram, image_weights=False, device=, multi_scale=False, single_cls=False, optimizer=SGD, sync_bn=False, workers=8, project=runs/train, name=exp, exist_ok=False, quad=False, cos_lr=False, label_smoothing=0.0, patience=100, freeze=[0], save_period=-1, seed=0, local_rank=-1, entity=None, upload_dataset=False, bbox_interval=-1, artifact_alias=latest\n",
            "\u001b[34m\u001b[1mgithub: \u001b[0mup to date with https://github.com/ultralytics/yolov5 ✅\n",
            "YOLOv5 🚀 v7.0-176-g76ea9ed Python-3.10.11 torch-2.0.1+cu118 CUDA:0 (Tesla T4, 15102MiB)\n",
            "\n",
            "\u001b[34m\u001b[1mhyperparameters: \u001b[0mlr0=0.01, lrf=0.01, momentum=0.937, weight_decay=0.0005, warmup_epochs=3.0, warmup_momentum=0.8, warmup_bias_lr=0.1, box=0.05, cls=0.5, cls_pw=1.0, obj=1.0, obj_pw=1.0, iou_t=0.2, anchor_t=4.0, fl_gamma=0.0, hsv_h=0.015, hsv_s=0.7, hsv_v=0.4, degrees=0.0, translate=0.1, scale=0.5, shear=0.0, perspective=0.0, flipud=0.0, fliplr=0.5, mosaic=1.0, mixup=0.0, copy_paste=0.0\n",
            "\u001b[34m\u001b[1mClearML: \u001b[0mrun 'pip install clearml' to automatically track, visualize and remotely train YOLOv5 🚀 in ClearML\n",
            "\u001b[34m\u001b[1mComet: \u001b[0mrun 'pip install comet_ml' to automatically track and visualize YOLOv5 🚀 runs in Comet\n",
            "\u001b[34m\u001b[1mTensorBoard: \u001b[0mStart with 'tensorboard --logdir runs/train', view at http://localhost:6006/\n",
            "Downloading https://github.com/ultralytics/yolov5/releases/download/v7.0/yolov5s.pt to yolov5s.pt...\n",
            "100% 14.1M/14.1M [00:00<00:00, 55.2MB/s]\n",
            "\n",
            "Overriding model.yaml nc=80 with nc=1\n",
            "\n",
            "                 from  n    params  module                                  arguments                     \n",
            "  0                -1  1      3520  models.common.Conv                      [3, 32, 6, 2, 2]              \n",
            "  1                -1  1     18560  models.common.Conv                      [32, 64, 3, 2]                \n",
            "  2                -1  1     18816  models.common.C3                        [64, 64, 1]                   \n",
            "  3                -1  1     73984  models.common.Conv                      [64, 128, 3, 2]               \n",
            "  4                -1  2    115712  models.common.C3                        [128, 128, 2]                 \n",
            "  5                -1  1    295424  models.common.Conv                      [128, 256, 3, 2]              \n",
            "  6                -1  3    625152  models.common.C3                        [256, 256, 3]                 \n",
            "  7                -1  1   1180672  models.common.Conv                      [256, 512, 3, 2]              \n",
            "  8                -1  1   1182720  models.common.C3                        [512, 512, 1]                 \n",
            "  9                -1  1    656896  models.common.SPPF                      [512, 512, 5]                 \n",
            " 10                -1  1    131584  models.common.Conv                      [512, 256, 1, 1]              \n",
            " 11                -1  1         0  torch.nn.modules.upsampling.Upsample    [None, 2, 'nearest']          \n",
            " 12           [-1, 6]  1         0  models.common.Concat                    [1]                           \n",
            " 13                -1  1    361984  models.common.C3                        [512, 256, 1, False]          \n",
            " 14                -1  1     33024  models.common.Conv                      [256, 128, 1, 1]              \n",
            " 15                -1  1         0  torch.nn.modules.upsampling.Upsample    [None, 2, 'nearest']          \n",
            " 16           [-1, 4]  1         0  models.common.Concat                    [1]                           \n",
            " 17                -1  1     90880  models.common.C3                        [256, 128, 1, False]          \n",
            " 18                -1  1    147712  models.common.Conv                      [128, 128, 3, 2]              \n",
            " 19          [-1, 14]  1         0  models.common.Concat                    [1]                           \n",
            " 20                -1  1    296448  models.common.C3                        [256, 256, 1, False]          \n",
            " 21                -1  1    590336  models.common.Conv                      [256, 256, 3, 2]              \n",
            " 22          [-1, 10]  1         0  models.common.Concat                    [1]                           \n",
            " 23                -1  1   1182720  models.common.C3                        [512, 512, 1, False]          \n",
            " 24      [17, 20, 23]  1     16182  models.yolo.Detect                      [1, [[10, 13, 16, 30, 33, 23], [30, 61, 62, 45, 59, 119], [116, 90, 156, 198, 373, 326]], [128, 256, 512]]\n",
            "Model summary: 214 layers, 7022326 parameters, 7022326 gradients, 15.9 GFLOPs\n",
            "\n",
            "Transferred 343/349 items from yolov5s.pt\n",
            "\u001b[34m\u001b[1mAMP: \u001b[0mchecks passed ✅\n",
            "\u001b[34m\u001b[1moptimizer:\u001b[0m SGD(lr=0.01) with parameter groups 57 weight(decay=0.0), 60 weight(decay=0.0005), 60 bias\n",
            "\u001b[34m\u001b[1malbumentations: \u001b[0mBlur(p=0.01, blur_limit=(3, 7)), MedianBlur(p=0.01, blur_limit=(3, 7)), ToGray(p=0.01), CLAHE(p=0.01, clip_limit=(1, 4.0), tile_grid_size=(8, 8))\n",
            "\u001b[34m\u001b[1mtrain: \u001b[0mScanning /content/yolov5/train_data/labels/train... 66 images, 0 backgrounds, 0 corrupt: 100% 66/66 [00:00<00:00, 1254.86it/s]\n",
            "\u001b[34m\u001b[1mtrain: \u001b[0mNew cache created: /content/yolov5/train_data/labels/train.cache\n",
            "\u001b[34m\u001b[1mtrain: \u001b[0mCaching images (0.0GB ram): 100% 66/66 [00:00<00:00, 86.09it/s]\n",
            "\u001b[34m\u001b[1mval: \u001b[0mScanning /content/yolov5/train_data/labels/train.cache... 66 images, 0 backgrounds, 0 corrupt: 100% 66/66 [00:00<?, ?it/s]\n",
            "\u001b[34m\u001b[1mval: \u001b[0mCaching images (0.0GB ram): 100% 66/66 [00:01<00:00, 48.14it/s]\n",
            "\n",
            "\u001b[34m\u001b[1mAutoAnchor: \u001b[0m5.17 anchors/target, 1.000 Best Possible Recall (BPR). Current anchors are a good fit to dataset ✅\n",
            "Plotting labels to runs/train/exp/labels.jpg... \n",
            "Image sizes 640 train, 640 val\n",
            "Using 2 dataloader workers\n",
            "Logging results to \u001b[1mruns/train/exp\u001b[0m\n",
            "Starting training for 50 epochs...\n",
            "\n",
            "      Epoch    GPU_mem   box_loss   obj_loss   cls_loss  Instances       Size\n",
            "       0/49      3.46G     0.1239    0.04178          0          6        640: 100% 5/5 [00:05<00:00,  1.18s/it]\n",
            "                 Class     Images  Instances          P          R      mAP50   mAP50-95: 100% 3/3 [00:04<00:00,  1.40s/it]\n",
            "                   all         66        179    0.00197      0.218    0.00121   0.000254\n",
            "\n",
            "      Epoch    GPU_mem   box_loss   obj_loss   cls_loss  Instances       Size\n",
            "       1/49      3.99G     0.1195    0.04495          0         11        640: 100% 5/5 [00:01<00:00,  4.69it/s]\n",
            "                 Class     Images  Instances          P          R      mAP50   mAP50-95: 100% 3/3 [00:01<00:00,  1.56it/s]\n",
            "                   all         66        179    0.00217       0.24    0.00155   0.000342\n",
            "\n",
            "      Epoch    GPU_mem   box_loss   obj_loss   cls_loss  Instances       Size\n",
            "       2/49      3.99G     0.1117    0.05168          0         20        640: 100% 5/5 [00:01<00:00,  4.65it/s]\n",
            "                 Class     Images  Instances          P          R      mAP50   mAP50-95: 100% 3/3 [00:01<00:00,  2.16it/s]\n",
            "                   all         66        179    0.00359      0.397    0.00524     0.0012\n",
            "\n",
            "      Epoch    GPU_mem   box_loss   obj_loss   cls_loss  Instances       Size\n",
            "       3/49      3.99G     0.1051    0.04955          0         17        640: 100% 5/5 [00:00<00:00,  5.28it/s]\n",
            "                 Class     Images  Instances          P          R      mAP50   mAP50-95: 100% 3/3 [00:01<00:00,  2.54it/s]\n",
            "                   all         66        179     0.0449      0.229      0.033     0.0104\n",
            "\n",
            "      Epoch    GPU_mem   box_loss   obj_loss   cls_loss  Instances       Size\n",
            "       4/49      4.01G    0.09813    0.05085          0         14        640: 100% 5/5 [00:01<00:00,  4.76it/s]\n",
            "                 Class     Images  Instances          P          R      mAP50   mAP50-95: 100% 3/3 [00:01<00:00,  2.22it/s]\n",
            "                   all         66        179      0.199      0.268      0.176     0.0553\n",
            "\n",
            "      Epoch    GPU_mem   box_loss   obj_loss   cls_loss  Instances       Size\n",
            "       5/49      4.01G    0.08876    0.05316          0         20        640: 100% 5/5 [00:01<00:00,  4.56it/s]\n",
            "                 Class     Images  Instances          P          R      mAP50   mAP50-95: 100% 3/3 [00:01<00:00,  2.99it/s]\n",
            "                   all         66        179      0.297       0.33      0.227     0.0552\n",
            "\n",
            "      Epoch    GPU_mem   box_loss   obj_loss   cls_loss  Instances       Size\n",
            "       6/49      4.01G    0.08274    0.04908          0         10        640: 100% 5/5 [00:00<00:00,  5.00it/s]\n",
            "                 Class     Images  Instances          P          R      mAP50   mAP50-95: 100% 3/3 [00:00<00:00,  3.78it/s]\n",
            "                   all         66        179      0.348      0.413        0.3     0.0799\n",
            "\n",
            "      Epoch    GPU_mem   box_loss   obj_loss   cls_loss  Instances       Size\n",
            "       7/49      4.01G    0.08014    0.04352          0          9        640: 100% 5/5 [00:00<00:00,  5.55it/s]\n",
            "                 Class     Images  Instances          P          R      mAP50   mAP50-95: 100% 3/3 [00:00<00:00,  3.58it/s]\n",
            "                   all         66        179       0.24      0.413      0.208     0.0496\n",
            "\n",
            "      Epoch    GPU_mem   box_loss   obj_loss   cls_loss  Instances       Size\n",
            "       8/49      4.01G    0.07109     0.0419          0          6        640: 100% 5/5 [00:00<00:00,  5.26it/s]\n",
            "                 Class     Images  Instances          P          R      mAP50   mAP50-95: 100% 3/3 [00:00<00:00,  3.96it/s]\n",
            "                   all         66        179       0.34      0.464      0.344     0.0826\n",
            "\n",
            "      Epoch    GPU_mem   box_loss   obj_loss   cls_loss  Instances       Size\n",
            "       9/49      4.01G    0.07585    0.03671          0         13        640: 100% 5/5 [00:00<00:00,  5.23it/s]\n",
            "                 Class     Images  Instances          P          R      mAP50   mAP50-95: 100% 3/3 [00:00<00:00,  3.98it/s]\n",
            "                   all         66        179      0.438      0.439      0.422      0.133\n",
            "\n",
            "      Epoch    GPU_mem   box_loss   obj_loss   cls_loss  Instances       Size\n",
            "      10/49      4.01G    0.06692    0.03712          0          7        640: 100% 5/5 [00:01<00:00,  4.12it/s]\n",
            "                 Class     Images  Instances          P          R      mAP50   mAP50-95: 100% 3/3 [00:01<00:00,  2.47it/s]\n",
            "                   all         66        179      0.528      0.458      0.448      0.166\n",
            "\n",
            "      Epoch    GPU_mem   box_loss   obj_loss   cls_loss  Instances       Size\n",
            "      11/49      4.01G    0.06745    0.04264          0         19        640: 100% 5/5 [00:00<00:00,  5.18it/s]\n",
            "                 Class     Images  Instances          P          R      mAP50   mAP50-95: 100% 3/3 [00:00<00:00,  4.23it/s]\n",
            "                   all         66        179      0.608      0.391       0.45      0.134\n",
            "\n",
            "      Epoch    GPU_mem   box_loss   obj_loss   cls_loss  Instances       Size\n",
            "      12/49      4.01G    0.06585     0.0373          0          9        640: 100% 5/5 [00:00<00:00,  5.55it/s]\n",
            "                 Class     Images  Instances          P          R      mAP50   mAP50-95: 100% 3/3 [00:00<00:00,  3.68it/s]\n",
            "                   all         66        179      0.534      0.447      0.453      0.191\n",
            "\n",
            "      Epoch    GPU_mem   box_loss   obj_loss   cls_loss  Instances       Size\n",
            "      13/49      4.01G    0.06389    0.04049          0         15        640: 100% 5/5 [00:00<00:00,  5.82it/s]\n",
            "                 Class     Images  Instances          P          R      mAP50   mAP50-95: 100% 3/3 [00:00<00:00,  3.46it/s]\n",
            "                   all         66        179      0.446      0.525      0.401      0.133\n",
            "\n",
            "      Epoch    GPU_mem   box_loss   obj_loss   cls_loss  Instances       Size\n",
            "      14/49      4.01G    0.06594     0.0381          0         12        640: 100% 5/5 [00:00<00:00,  5.27it/s]\n",
            "                 Class     Images  Instances          P          R      mAP50   mAP50-95: 100% 3/3 [00:00<00:00,  4.42it/s]\n",
            "                   all         66        179      0.376      0.551      0.378     0.0985\n",
            "\n",
            "      Epoch    GPU_mem   box_loss   obj_loss   cls_loss  Instances       Size\n",
            "      15/49      4.01G    0.06536    0.03568          0         14        640: 100% 5/5 [00:00<00:00,  5.54it/s]\n",
            "                 Class     Images  Instances          P          R      mAP50   mAP50-95: 100% 3/3 [00:00<00:00,  3.08it/s]\n",
            "                   all         66        179      0.633      0.508      0.627      0.294\n",
            "\n",
            "      Epoch    GPU_mem   box_loss   obj_loss   cls_loss  Instances       Size\n",
            "      16/49      4.01G    0.06428    0.04043          0         19        640: 100% 5/5 [00:01<00:00,  4.31it/s]\n",
            "                 Class     Images  Instances          P          R      mAP50   mAP50-95: 100% 3/3 [00:01<00:00,  2.51it/s]\n",
            "                   all         66        179      0.566       0.48      0.561      0.229\n",
            "\n",
            "      Epoch    GPU_mem   box_loss   obj_loss   cls_loss  Instances       Size\n",
            "      17/49      4.01G    0.06115    0.02904          0          6        640: 100% 5/5 [00:00<00:00,  5.49it/s]\n",
            "                 Class     Images  Instances          P          R      mAP50   mAP50-95: 100% 3/3 [00:00<00:00,  4.33it/s]\n",
            "                   all         66        179      0.457      0.536      0.472      0.177\n",
            "\n",
            "      Epoch    GPU_mem   box_loss   obj_loss   cls_loss  Instances       Size\n",
            "      18/49      4.01G    0.06561    0.03179          0          7        640: 100% 5/5 [00:00<00:00,  5.56it/s]\n",
            "                 Class     Images  Instances          P          R      mAP50   mAP50-95: 100% 3/3 [00:00<00:00,  4.35it/s]\n",
            "                   all         66        179       0.51      0.492      0.533      0.262\n",
            "\n",
            "      Epoch    GPU_mem   box_loss   obj_loss   cls_loss  Instances       Size\n",
            "      19/49      4.01G    0.05737    0.02853          0          2        640: 100% 5/5 [00:00<00:00,  5.46it/s]\n",
            "                 Class     Images  Instances          P          R      mAP50   mAP50-95: 100% 3/3 [00:00<00:00,  4.26it/s]\n",
            "                   all         66        179      0.537      0.508      0.566      0.241\n",
            "\n",
            "      Epoch    GPU_mem   box_loss   obj_loss   cls_loss  Instances       Size\n",
            "      20/49      4.01G     0.0654    0.03398          0         15        640: 100% 5/5 [00:00<00:00,  5.22it/s]\n",
            "                 Class     Images  Instances          P          R      mAP50   mAP50-95: 100% 3/3 [00:00<00:00,  4.57it/s]\n",
            "                   all         66        179      0.614      0.552      0.599      0.232\n",
            "\n",
            "      Epoch    GPU_mem   box_loss   obj_loss   cls_loss  Instances       Size\n",
            "      21/49      4.01G    0.06216    0.03548          0          8        640: 100% 5/5 [00:00<00:00,  5.25it/s]\n",
            "                 Class     Images  Instances          P          R      mAP50   mAP50-95: 100% 3/3 [00:00<00:00,  4.39it/s]\n",
            "                   all         66        179      0.585      0.564       0.63      0.272\n",
            "\n",
            "      Epoch    GPU_mem   box_loss   obj_loss   cls_loss  Instances       Size\n",
            "      22/49      4.01G    0.05743    0.03083          0          6        640: 100% 5/5 [00:01<00:00,  4.58it/s]\n",
            "                 Class     Images  Instances          P          R      mAP50   mAP50-95: 100% 3/3 [00:01<00:00,  2.08it/s]\n",
            "                   all         66        179      0.626      0.571      0.635      0.305\n",
            "\n",
            "      Epoch    GPU_mem   box_loss   obj_loss   cls_loss  Instances       Size\n",
            "      23/49      4.01G    0.05304    0.03286          0          9        640: 100% 5/5 [00:00<00:00,  5.56it/s]\n",
            "                 Class     Images  Instances          P          R      mAP50   mAP50-95: 100% 3/3 [00:00<00:00,  4.18it/s]\n",
            "                   all         66        179      0.675      0.564      0.629      0.268\n",
            "\n",
            "      Epoch    GPU_mem   box_loss   obj_loss   cls_loss  Instances       Size\n",
            "      24/49      4.01G    0.06048    0.03349          0         18        640: 100% 5/5 [00:00<00:00,  5.44it/s]\n",
            "                 Class     Images  Instances          P          R      mAP50   mAP50-95: 100% 3/3 [00:00<00:00,  4.51it/s]\n",
            "                   all         66        179      0.747      0.575      0.698      0.333\n",
            "\n",
            "      Epoch    GPU_mem   box_loss   obj_loss   cls_loss  Instances       Size\n",
            "      25/49      4.01G    0.05517     0.0314          0          9        640: 100% 5/5 [00:00<00:00,  5.32it/s]\n",
            "                 Class     Images  Instances          P          R      mAP50   mAP50-95: 100% 3/3 [00:00<00:00,  4.60it/s]\n",
            "                   all         66        179      0.626       0.57      0.642      0.312\n",
            "\n",
            "      Epoch    GPU_mem   box_loss   obj_loss   cls_loss  Instances       Size\n",
            "      26/49      4.01G    0.04904    0.02729          0          9        640: 100% 5/5 [00:00<00:00,  5.73it/s]\n",
            "                 Class     Images  Instances          P          R      mAP50   mAP50-95: 100% 3/3 [00:00<00:00,  4.10it/s]\n",
            "                   all         66        179      0.677      0.575      0.719      0.323\n",
            "\n",
            "      Epoch    GPU_mem   box_loss   obj_loss   cls_loss  Instances       Size\n",
            "      27/49      4.01G    0.04561     0.0364          0         14        640: 100% 5/5 [00:00<00:00,  5.60it/s]\n",
            "                 Class     Images  Instances          P          R      mAP50   mAP50-95: 100% 3/3 [00:00<00:00,  3.96it/s]\n",
            "                   all         66        179       0.56       0.57      0.637      0.269\n",
            "\n",
            "      Epoch    GPU_mem   box_loss   obj_loss   cls_loss  Instances       Size\n",
            "      28/49      4.01G    0.05237    0.03001          0         11        640: 100% 5/5 [00:01<00:00,  4.64it/s]\n",
            "                 Class     Images  Instances          P          R      mAP50   mAP50-95: 100% 3/3 [00:01<00:00,  2.29it/s]\n",
            "                   all         66        179      0.744      0.609      0.783      0.454\n",
            "\n",
            "      Epoch    GPU_mem   box_loss   obj_loss   cls_loss  Instances       Size\n",
            "      29/49      4.01G    0.04647    0.02903          0          6        640: 100% 5/5 [00:00<00:00,  5.21it/s]\n",
            "                 Class     Images  Instances          P          R      mAP50   mAP50-95: 100% 3/3 [00:00<00:00,  4.49it/s]\n",
            "                   all         66        179      0.608      0.553      0.644      0.312\n",
            "\n",
            "      Epoch    GPU_mem   box_loss   obj_loss   cls_loss  Instances       Size\n",
            "      30/49      4.01G    0.04804     0.0272          0          7        640: 100% 5/5 [00:00<00:00,  5.32it/s]\n",
            "                 Class     Images  Instances          P          R      mAP50   mAP50-95: 100% 3/3 [00:00<00:00,  4.58it/s]\n",
            "                   all         66        179      0.776      0.626      0.764      0.456\n",
            "\n",
            "      Epoch    GPU_mem   box_loss   obj_loss   cls_loss  Instances       Size\n",
            "      31/49      4.01G    0.03542    0.02793          0          3        640: 100% 5/5 [00:00<00:00,  5.20it/s]\n",
            "                 Class     Images  Instances          P          R      mAP50   mAP50-95: 100% 3/3 [00:00<00:00,  4.66it/s]\n",
            "                   all         66        179      0.783      0.626       0.79       0.42\n",
            "\n",
            "      Epoch    GPU_mem   box_loss   obj_loss   cls_loss  Instances       Size\n",
            "      32/49      4.01G    0.05135    0.03124          0         16        640: 100% 5/5 [00:00<00:00,  5.27it/s]\n",
            "                 Class     Images  Instances          P          R      mAP50   mAP50-95: 100% 3/3 [00:00<00:00,  4.77it/s]\n",
            "                   all         66        179      0.809      0.688      0.854       0.49\n",
            "\n",
            "      Epoch    GPU_mem   box_loss   obj_loss   cls_loss  Instances       Size\n",
            "      33/49      4.01G    0.04145    0.03032          0         15        640: 100% 5/5 [00:00<00:00,  5.36it/s]\n",
            "                 Class     Images  Instances          P          R      mAP50   mAP50-95: 100% 3/3 [00:00<00:00,  4.15it/s]\n",
            "                   all         66        179      0.859      0.631       0.83      0.481\n",
            "\n",
            "      Epoch    GPU_mem   box_loss   obj_loss   cls_loss  Instances       Size\n",
            "      34/49      4.01G    0.04441    0.03057          0          9        640: 100% 5/5 [00:01<00:00,  4.60it/s]\n",
            "                 Class     Images  Instances          P          R      mAP50   mAP50-95: 100% 3/3 [00:01<00:00,  2.21it/s]\n",
            "                   all         66        179      0.645      0.853      0.845      0.482\n",
            "\n",
            "      Epoch    GPU_mem   box_loss   obj_loss   cls_loss  Instances       Size\n",
            "      35/49      4.01G    0.04254    0.02975          0          7        640: 100% 5/5 [00:01<00:00,  4.88it/s]\n",
            "                 Class     Images  Instances          P          R      mAP50   mAP50-95: 100% 3/3 [00:00<00:00,  4.62it/s]\n",
            "                   all         66        179      0.712      0.743       0.84      0.397\n",
            "\n",
            "      Epoch    GPU_mem   box_loss   obj_loss   cls_loss  Instances       Size\n",
            "      36/49      4.01G    0.04407    0.02668          0          5        640: 100% 5/5 [00:00<00:00,  5.23it/s]\n",
            "                 Class     Images  Instances          P          R      mAP50   mAP50-95: 100% 3/3 [00:00<00:00,  4.45it/s]\n",
            "                   all         66        179      0.772      0.883      0.912      0.611\n",
            "\n",
            "      Epoch    GPU_mem   box_loss   obj_loss   cls_loss  Instances       Size\n",
            "      37/49      4.01G    0.03763    0.02591          0         12        640: 100% 5/5 [00:00<00:00,  5.48it/s]\n",
            "                 Class     Images  Instances          P          R      mAP50   mAP50-95: 100% 3/3 [00:00<00:00,  4.23it/s]\n",
            "                   all         66        179      0.603      0.899      0.825      0.382\n",
            "\n",
            "      Epoch    GPU_mem   box_loss   obj_loss   cls_loss  Instances       Size\n",
            "      38/49      4.01G    0.04349    0.02715          0          6        640: 100% 5/5 [00:00<00:00,  5.38it/s]\n",
            "                 Class     Images  Instances          P          R      mAP50   mAP50-95: 100% 3/3 [00:00<00:00,  3.96it/s]\n",
            "                   all         66        179      0.687      0.899       0.86      0.519\n",
            "\n",
            "      Epoch    GPU_mem   box_loss   obj_loss   cls_loss  Instances       Size\n",
            "      39/49      4.01G    0.04012    0.03324          0         16        640: 100% 5/5 [00:00<00:00,  5.03it/s]\n",
            "                 Class     Images  Instances          P          R      mAP50   mAP50-95: 100% 3/3 [00:00<00:00,  4.30it/s]\n",
            "                   all         66        179      0.735      0.866      0.892      0.533\n",
            "\n",
            "      Epoch    GPU_mem   box_loss   obj_loss   cls_loss  Instances       Size\n",
            "      40/49      4.01G    0.03733    0.02612          0          9        640: 100% 5/5 [00:01<00:00,  4.18it/s]\n",
            "                 Class     Images  Instances          P          R      mAP50   mAP50-95: 100% 3/3 [00:01<00:00,  2.28it/s]\n",
            "                   all         66        179      0.783      0.899      0.921      0.611\n",
            "\n",
            "      Epoch    GPU_mem   box_loss   obj_loss   cls_loss  Instances       Size\n",
            "      41/49      4.01G     0.0365    0.03339          0         16        640: 100% 5/5 [00:00<00:00,  5.34it/s]\n",
            "                 Class     Images  Instances          P          R      mAP50   mAP50-95: 100% 3/3 [00:00<00:00,  3.31it/s]\n",
            "                   all         66        179      0.771      0.899      0.919      0.599\n",
            "\n",
            "      Epoch    GPU_mem   box_loss   obj_loss   cls_loss  Instances       Size\n",
            "      42/49      4.01G    0.03426    0.02923          0         12        640: 100% 5/5 [00:01<00:00,  4.92it/s]\n",
            "                 Class     Images  Instances          P          R      mAP50   mAP50-95: 100% 3/3 [00:01<00:00,  2.45it/s]\n",
            "                   all         66        179      0.774      0.899      0.924      0.639\n",
            "\n",
            "      Epoch    GPU_mem   box_loss   obj_loss   cls_loss  Instances       Size\n",
            "      43/49      4.01G    0.03207    0.02673          0          5        640: 100% 5/5 [00:00<00:00,  5.01it/s]\n",
            "                 Class     Images  Instances          P          R      mAP50   mAP50-95: 100% 3/3 [00:00<00:00,  4.68it/s]\n",
            "                   all         66        179      0.781      0.899      0.921      0.621\n",
            "\n",
            "      Epoch    GPU_mem   box_loss   obj_loss   cls_loss  Instances       Size\n",
            "      44/49      4.01G    0.03281    0.02757          0         13        640: 100% 5/5 [00:00<00:00,  5.18it/s]\n",
            "                 Class     Images  Instances          P          R      mAP50   mAP50-95: 100% 3/3 [00:00<00:00,  4.62it/s]\n",
            "                   all         66        179      0.786      0.901      0.924      0.624\n",
            "\n",
            "      Epoch    GPU_mem   box_loss   obj_loss   cls_loss  Instances       Size\n",
            "      45/49      4.01G    0.03425    0.02456          0          3        640: 100% 5/5 [00:00<00:00,  5.39it/s]\n",
            "                 Class     Images  Instances          P          R      mAP50   mAP50-95: 100% 3/3 [00:00<00:00,  3.36it/s]\n",
            "                   all         66        179       0.78      0.905      0.925      0.661\n",
            "\n",
            "      Epoch    GPU_mem   box_loss   obj_loss   cls_loss  Instances       Size\n",
            "      46/49      4.01G    0.03163    0.03044          0         11        640: 100% 5/5 [00:01<00:00,  4.68it/s]\n",
            "                 Class     Images  Instances          P          R      mAP50   mAP50-95: 100% 3/3 [00:01<00:00,  2.40it/s]\n",
            "                   all         66        179      0.787      0.905      0.927      0.672\n",
            "\n",
            "      Epoch    GPU_mem   box_loss   obj_loss   cls_loss  Instances       Size\n",
            "      47/49      4.01G    0.03138    0.02553          0          6        640: 100% 5/5 [00:00<00:00,  5.39it/s]\n",
            "                 Class     Images  Instances          P          R      mAP50   mAP50-95: 100% 3/3 [00:00<00:00,  4.20it/s]\n",
            "                   all         66        179      0.781      0.905      0.931      0.667\n",
            "\n",
            "      Epoch    GPU_mem   box_loss   obj_loss   cls_loss  Instances       Size\n",
            "      48/49      4.01G    0.03422     0.0289          0         10        640: 100% 5/5 [00:00<00:00,  5.49it/s]\n",
            "                 Class     Images  Instances          P          R      mAP50   mAP50-95: 100% 3/3 [00:00<00:00,  4.05it/s]\n",
            "                   all         66        179      0.794      0.911      0.933      0.687\n",
            "\n",
            "      Epoch    GPU_mem   box_loss   obj_loss   cls_loss  Instances       Size\n",
            "      49/49      4.01G    0.02957    0.02703          0         17        640: 100% 5/5 [00:00<00:00,  5.43it/s]\n",
            "                 Class     Images  Instances          P          R      mAP50   mAP50-95: 100% 3/3 [00:00<00:00,  4.49it/s]\n",
            "                   all         66        179      0.796      0.911      0.933      0.683\n",
            "\n",
            "50 epochs completed in 0.035 hours.\n",
            "Optimizer stripped from runs/train/exp/weights/last.pt, 14.4MB\n",
            "Optimizer stripped from runs/train/exp/weights/best.pt, 14.4MB\n",
            "\n",
            "Validating runs/train/exp/weights/best.pt...\n",
            "Fusing layers... \n",
            "Model summary: 157 layers, 7012822 parameters, 0 gradients, 15.8 GFLOPs\n",
            "                 Class     Images  Instances          P          R      mAP50   mAP50-95: 100% 3/3 [00:01<00:00,  1.55it/s]\n",
            "                   all         66        179      0.794      0.911      0.933      0.686\n",
            "Results saved to \u001b[1mruns/train/exp\u001b[0m\n"
          ]
        }
      ]
    },
    {
      "cell_type": "markdown",
      "metadata": {
        "id": "15glLzbQx5u0"
      },
      "source": [
        "# 4. Visualize"
      ]
    },
    {
      "cell_type": "markdown",
      "source": [
        "## Comet Logging and Visualization 🌟 NEW\n",
        "\n",
        "[Comet](https://www.comet.com/site/lp/yolov5-with-comet/?utm_source=yolov5&utm_medium=partner&utm_campaign=partner_yolov5_2022&utm_content=yolov5_colab) is now fully integrated with YOLOv5. Track and visualize model metrics in real time, save your hyperparameters, datasets, and model checkpoints, and visualize your model predictions with [Comet Custom Panels](https://www.comet.com/docs/v2/guides/comet-dashboard/code-panels/about-panels/?utm_source=yolov5&utm_medium=partner&utm_campaign=partner_yolov5_2022&utm_content=yolov5_colab)! Comet makes sure you never lose track of your work and makes it easy to share results and collaborate across teams of all sizes!\n",
        "\n",
        "Getting started is easy:\n",
        "```shell\n",
        "pip install comet_ml  # 1. install\n",
        "export COMET_API_KEY=<Your API Key>  # 2. paste API key\n",
        "python train.py --img 640 --epochs 3 --data coco128.yaml --weights yolov5s.pt  # 3. train\n",
        "```\n",
        "To learn more about all of the supported Comet features for this integration, check out the [Comet Tutorial](https://docs.ultralytics.com/yolov5/tutorials/comet_logging_integration). If you'd like to learn more about Comet, head over to our [documentation](https://www.comet.com/docs/v2/?utm_source=yolov5&utm_medium=partner&utm_campaign=partner_yolov5_2022&utm_content=yolov5_colab). Get started by trying out the Comet Colab Notebook:\n",
        "[![Open In Colab](https://colab.research.google.com/assets/colab-badge.svg)](https://colab.research.google.com/drive/1RG0WOQyxlDlo5Km8GogJpIEJlg_5lyYO?usp=sharing)\n",
        "\n",
        "<a href=\"https://bit.ly/yolov5-readme-comet2\">\n",
        "<img alt=\"Comet Dashboard\" src=\"https://user-images.githubusercontent.com/26833433/202851203-164e94e1-2238-46dd-91f8-de020e9d6b41.png\" width=\"1280\"/></a>"
      ],
      "metadata": {
        "id": "nWOsI5wJR1o3"
      }
    },
    {
      "cell_type": "markdown",
      "source": [
        "## ClearML Logging and Automation 🌟 NEW\n",
        "\n",
        "[ClearML](https://cutt.ly/yolov5-notebook-clearml) is completely integrated into YOLOv5 to track your experimentation, manage dataset versions and even remotely execute training runs. To enable ClearML (check cells above):\n",
        "\n",
        "- `pip install clearml`\n",
        "- run `clearml-init` to connect to a ClearML server (**deploy your own [open-source server](https://github.com/allegroai/clearml-server)**, or use our [free hosted server](https://cutt.ly/yolov5-notebook-clearml))\n",
        "\n",
        "You'll get all the great expected features from an experiment manager: live updates, model upload, experiment comparison etc. but ClearML also tracks uncommitted changes and installed packages for example. Thanks to that ClearML Tasks (which is what we call experiments) are also reproducible on different machines! With only 1 extra line, we can schedule a YOLOv5 training task on a queue to be executed by any number of ClearML Agents (workers).\n",
        "\n",
        "You can use ClearML Data to version your dataset and then pass it to YOLOv5 simply using its unique ID. This will help you keep track of your data without adding extra hassle. Explore the [ClearML Tutorial](https://docs.ultralytics.com/yolov5/tutorials/clearml_logging_integration) for details!\n",
        "\n",
        "<a href=\"https://cutt.ly/yolov5-notebook-clearml\">\n",
        "<img alt=\"ClearML Experiment Management UI\" src=\"https://github.com/thepycoder/clearml_screenshots/raw/main/scalars.jpg\" width=\"1280\"/></a>"
      ],
      "metadata": {
        "id": "Lay2WsTjNJzP"
      }
    },
    {
      "cell_type": "markdown",
      "metadata": {
        "id": "-WPvRbS5Swl6"
      },
      "source": [
        "## Local Logging\n",
        "\n",
        "Training results are automatically logged with [Tensorboard](https://www.tensorflow.org/tensorboard) and [CSV](https://github.com/ultralytics/yolov5/pull/4148) loggers to `runs/train`, with a new experiment directory created for each new training as `runs/train/exp2`, `runs/train/exp3`, etc.\n",
        "\n",
        "This directory contains train and val statistics, mosaics, labels, predictions and augmentated mosaics, as well as metrics and charts including precision-recall (PR) curves and confusion matrices. \n",
        "\n",
        "<img alt=\"Local logging results\" src=\"https://user-images.githubusercontent.com/26833433/183222430-e1abd1b7-782c-4cde-b04d-ad52926bf818.jpg\" width=\"1280\"/>\n"
      ]
    },
    {
      "cell_type": "markdown",
      "metadata": {
        "id": "Zelyeqbyt3GD"
      },
      "source": [
        "# Environments\n",
        "\n",
        "YOLOv5 may be run in any of the following up-to-date verified environments (with all dependencies including [CUDA](https://developer.nvidia.com/cuda)/[CUDNN](https://developer.nvidia.com/cudnn), [Python](https://www.python.org/) and [PyTorch](https://pytorch.org/) preinstalled):\n",
        "\n",
        "- **Notebooks** with free GPU: <a href=\"https://bit.ly/yolov5-paperspace-notebook\"><img src=\"https://assets.paperspace.io/img/gradient-badge.svg\" alt=\"Run on Gradient\"></a> <a href=\"https://colab.research.google.com/github/ultralytics/yolov5/blob/master/tutorial.ipynb\"><img src=\"https://colab.research.google.com/assets/colab-badge.svg\" alt=\"Open In Colab\"></a> <a href=\"https://www.kaggle.com/ultralytics/yolov5\"><img src=\"https://kaggle.com/static/images/open-in-kaggle.svg\" alt=\"Open In Kaggle\"></a>\n",
        "- **Google Cloud** Deep Learning VM. See [GCP Quickstart Guide](https://docs.ultralytics.com/yolov5/environments/google_cloud_quickstart_tutorial/)\n",
        "- **Amazon** Deep Learning AMI. See [AWS Quickstart Guide](https://docs.ultralytics.com/yolov5/environments/aws_quickstart_tutorial/)\n",
        "- **Docker Image**. See [Docker Quickstart Guide](https://docs.ultralytics.com/yolov5/environments/docker_image_quickstart_tutorial/) <a href=\"https://hub.docker.com/r/ultralytics/yolov5\"><img src=\"https://img.shields.io/docker/pulls/ultralytics/yolov5?logo=docker\" alt=\"Docker Pulls\"></a>\n"
      ]
    },
    {
      "cell_type": "markdown",
      "metadata": {
        "id": "6Qu7Iesl0p54"
      },
      "source": [
        "# Status\n",
        "\n",
        "![YOLOv5 CI](https://github.com/ultralytics/yolov5/actions/workflows/ci-testing.yml/badge.svg)\n",
        "\n",
        "If this badge is green, all [YOLOv5 GitHub Actions](https://github.com/ultralytics/yolov5/actions) Continuous Integration (CI) tests are currently passing. CI tests verify correct operation of YOLOv5 training ([train.py](https://github.com/ultralytics/yolov5/blob/master/train.py)), testing ([val.py](https://github.com/ultralytics/yolov5/blob/master/val.py)), inference ([detect.py](https://github.com/ultralytics/yolov5/blob/master/detect.py)) and export ([export.py](https://github.com/ultralytics/yolov5/blob/master/export.py)) on macOS, Windows, and Ubuntu every 24 hours and on every commit.\n"
      ]
    },
    {
      "cell_type": "markdown",
      "metadata": {
        "id": "IEijrePND_2I"
      },
      "source": [
        "# Appendix\n",
        "\n",
        "Additional content below."
      ]
    },
    {
      "cell_type": "code",
      "metadata": {
        "id": "GMusP4OAxFu6"
      },
      "source": [
        "# YOLOv5 PyTorch HUB Inference (DetectionModels only)\n",
        "import torch\n",
        "\n",
        "model = torch.hub.load('ultralytics/yolov5', 'yolov5s', force_reload=True)  # yolov5n - yolov5x6 or custom\n",
        "im = 'https://ultralytics.com/images/zidane.jpg'  # file, Path, PIL.Image, OpenCV, nparray, list\n",
        "results = model(im)  # inference\n",
        "results.print()  # or .show(), .save(), .crop(), .pandas(), etc."
      ],
      "execution_count": null,
      "outputs": []
    }
  ]
}